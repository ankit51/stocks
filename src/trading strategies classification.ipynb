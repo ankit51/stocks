{
 "cells": [
  {
   "cell_type": "markdown",
   "metadata": {},
   "source": [
    "### Import all necessary libraries"
   ]
  },
  {
   "cell_type": "code",
   "execution_count": 1,
   "metadata": {},
   "outputs": [],
   "source": [
    "import yfinance as yf\n",
    "import pandas as pd\n",
    "import datetime\n",
    "import calendar\n",
    "import numpy as np\n",
    "import matplotlib.pyplot as plt\n",
    "from calendar import monthrange\n",
    "from sklearn.metrics import confusion_matrix\n",
    "from sklearn.linear_model import LogisticRegression\n",
    "from sklearn.metrics import confusion_matrix\n",
    "from sklearn.ensemble import RandomForestClassifier\n",
    "%matplotlib inline"
   ]
  },
  {
   "cell_type": "markdown",
   "metadata": {},
   "source": [
    "### Get stock data from Yahoo Finance\n",
    "I have chosen my favourite stock here Bajaj Finance. It is a high beta stocks and thus provides opportunites for short term trading.\n",
    "Each entry represents 1 day staring from 1 Jan 2011"
   ]
  },
  {
   "cell_type": "code",
   "execution_count": 2,
   "metadata": {},
   "outputs": [],
   "source": [
    "ticker='BAJFINANCE.NS'\n",
    "tickerData = yf.Ticker(ticker)\n",
    "df = tickerData.history(period='1d', start='2011-1-1')"
   ]
  },
  {
   "cell_type": "markdown",
   "metadata": {},
   "source": [
    "### Bollinger Bands\n",
    "Bollinger Bands are a technical analysis tool developed by John Bollinger for generating oversold or overbought signals.\n",
    "There are three lines that compose Bollinger Bands: A simple moving average (middle band) and an upper and lower band.\n",
    "The upper and lower bands are typically 2 standard deviations +/- from a 20-day simple moving average, but can be modified."
   ]
  },
  {
   "cell_type": "code",
   "execution_count": 3,
   "metadata": {},
   "outputs": [],
   "source": [
    "### Bollinger Bands\n",
    "window = 21\n",
    "no_of_std = 2\n",
    "\n",
    "#Calculate rolling mean and standard deviation using number of days set above\n",
    "rolling_mean = df['Close'].rolling(window).mean()\n",
    "rolling_std = df['Close'].rolling(window).std()\n",
    "rolling_vol = df['Volume'].rolling(window).mean()\n",
    "\n",
    "#create two new DataFrame columns to hold values of upper and lower Bollinger bands\n",
    "df['Rolling Mean'] = rolling_mean\n",
    "df['Bollinger High'] = rolling_mean + (rolling_std * no_of_std)\n",
    "df['Bollinger Low'] = rolling_mean - (rolling_std * no_of_std)\n",
    "df['Rolling Vol'] = rolling_vol"
   ]
  },
  {
   "cell_type": "markdown",
   "metadata": {},
   "source": [
    "### Relative Strength Index (RSI)\n",
    "The relative strength index (RSI) is a momentum indicator used in technical analysis that measures the magnitude of recent price changes to evaluate overbought or oversold conditions in the price of a stock or other asset. The RSI is displayed as an oscillator (a line graph that moves between two extremes) and can have a reading from 0 to 100. The indicator was originally developed by J. Welles Wilder Jr. and introduced in his seminal 1978 book, \"New Concepts in Technical Trading Systems.\"\n",
    "\n",
    "Traditional interpretation and usage of the RSI are that values of 70 or above indicate that a security is becoming overbought or overvalued and may be primed for a trend reversal or corrective pullback in price. An RSI reading of 30 or below indicates an oversold or undervalued condition."
   ]
  },
  {
   "cell_type": "code",
   "execution_count": 4,
   "metadata": {},
   "outputs": [
    {
     "name": "stderr",
     "output_type": "stream",
     "text": [
      "/Users/ankit/anaconda3/lib/python3.7/site-packages/pandas/core/indexing.py:671: SettingWithCopyWarning: \n",
      "A value is trying to be set on a copy of a slice from a DataFrame\n",
      "\n",
      "See the caveats in the documentation: https://pandas.pydata.org/pandas-docs/stable/user_guide/indexing.html#returning-a-view-versus-a-copy\n",
      "  self._setitem_with_indexer(indexer, value)\n"
     ]
    }
   ],
   "source": [
    "#### RSI\n",
    "window = 14\n",
    "no_of_std = 2\n",
    "df['GL'] = (df['Close']-df['Open'])/df['Open']\n",
    "df['rsi']=None\n",
    "for row in range(df.shape[0]):\n",
    "    tmp = df['GL'].iloc[row-14:row]\n",
    "    avg_gain = (tmp[tmp>0].mean()*13+df['GL'].iloc[row])/14\n",
    "    avg_loss = (abs(tmp[tmp<0].mean())*13+df['GL'].iloc[row])/14\n",
    "    rs = avg_gain/avg_loss\n",
    "    df['rsi'].iloc[row] = 100-100/(1+rs)"
   ]
  },
  {
   "cell_type": "markdown",
   "metadata": {},
   "source": [
    "### MACD\n",
    "Moving Average Convergence Divergence (MACD) is a trend-following momentum indicator that shows the relationship between two moving averages of a security’s price. The MACD is calculated by subtracting the 26-period Exponential Moving Average (EMA) from the 12-period EMA.\n",
    "\n",
    "The result of that calculation is the MACD line. A nine-day EMA of the MACD called the \"signal line,\" is then plotted on top of the MACD line, which can function as a trigger for buy and sell signals. Traders may buy the security when the MACD crosses above its signal line and sell—or short—the security when the MACD crosses below the signal line. Moving Average Convergence Divergence (MACD) indicators can be interpreted in several ways, but the more common methods are crossovers, divergences, and rapid rises/falls."
   ]
  },
  {
   "cell_type": "code",
   "execution_count": 5,
   "metadata": {},
   "outputs": [],
   "source": [
    "#### macd\n",
    "df['macd'] = df['Close'].ewm(span=12, adjust=False).mean()-df['Close'].ewm(span=26, adjust=False).mean()\n",
    "df['signal'] = df['macd'].ewm(span=9, adjust=False).mean()\n",
    "df['macd_hist'] = df['macd']-df['signal']"
   ]
  },
  {
   "cell_type": "markdown",
   "metadata": {},
   "source": [
    "### Target variable\n",
    "Buy today only if stock moves upwards tomorrow"
   ]
  },
  {
   "cell_type": "code",
   "execution_count": 6,
   "metadata": {},
   "outputs": [],
   "source": [
    "df['Buy'] = df['GL'].shift(-1)\n",
    "df['Buy'] = df['Buy']>0\n",
    "df['Buy']=df['Buy'].apply(lambda x:int(x))"
   ]
  },
  {
   "cell_type": "code",
   "execution_count": 7,
   "metadata": {},
   "outputs": [],
   "source": [
    "def prev_weekday(d, weekday):\n",
    "    days_ahead = d.weekday() - weekday\n",
    "    if days_ahead <= 0:\n",
    "        days_ahead += 7\n",
    "    return d - datetime.timedelta(days_ahead)\n",
    "def days2expiry(dt):\n",
    "    yr = dt.year\n",
    "    mth = dt.month\n",
    "    d = datetime.date(yr,mth,monthrange(yr, mth)[1])\n",
    "    expiry = prev_weekday(d, 3)\n",
    "    return (expiry-dt.date()).days"
   ]
  },
  {
   "cell_type": "markdown",
   "metadata": {},
   "source": [
    "### Feature Engineering\n",
    "Using ideas from all of the above, let us develop some features."
   ]
  },
  {
   "cell_type": "code",
   "execution_count": 8,
   "metadata": {},
   "outputs": [
    {
     "name": "stderr",
     "output_type": "stream",
     "text": [
      "/Users/ankit/anaconda3/lib/python3.7/site-packages/ipykernel_launcher.py:4: SettingWithCopyWarning: \n",
      "A value is trying to be set on a copy of a slice from a DataFrame\n",
      "\n",
      "See the caveats in the documentation: https://pandas.pydata.org/pandas-docs/stable/user_guide/indexing.html#returning-a-view-versus-a-copy\n",
      "  after removing the cwd from sys.path.\n",
      "/Users/ankit/anaconda3/lib/python3.7/site-packages/ipykernel_launcher.py:5: SettingWithCopyWarning: \n",
      "A value is trying to be set on a copy of a slice from a DataFrame\n",
      "\n",
      "See the caveats in the documentation: https://pandas.pydata.org/pandas-docs/stable/user_guide/indexing.html#returning-a-view-versus-a-copy\n",
      "  \"\"\"\n",
      "/Users/ankit/anaconda3/lib/python3.7/site-packages/ipykernel_launcher.py:9: SettingWithCopyWarning: \n",
      "A value is trying to be set on a copy of a slice from a DataFrame\n",
      "\n",
      "See the caveats in the documentation: https://pandas.pydata.org/pandas-docs/stable/user_guide/indexing.html#returning-a-view-versus-a-copy\n",
      "  if __name__ == '__main__':\n",
      "/Users/ankit/anaconda3/lib/python3.7/site-packages/ipykernel_launcher.py:10: SettingWithCopyWarning: \n",
      "A value is trying to be set on a copy of a slice from a DataFrame\n",
      "\n",
      "See the caveats in the documentation: https://pandas.pydata.org/pandas-docs/stable/user_guide/indexing.html#returning-a-view-versus-a-copy\n",
      "  # Remove the CWD from sys.path while we load stuff.\n",
      "/Users/ankit/anaconda3/lib/python3.7/site-packages/ipykernel_launcher.py:14: SettingWithCopyWarning: \n",
      "A value is trying to be set on a copy of a slice from a DataFrame\n",
      "\n",
      "See the caveats in the documentation: https://pandas.pydata.org/pandas-docs/stable/user_guide/indexing.html#returning-a-view-versus-a-copy\n",
      "  \n",
      "/Users/ankit/anaconda3/lib/python3.7/site-packages/ipykernel_launcher.py:18: SettingWithCopyWarning: \n",
      "A value is trying to be set on a copy of a slice from a DataFrame\n",
      "\n",
      "See the caveats in the documentation: https://pandas.pydata.org/pandas-docs/stable/user_guide/indexing.html#returning-a-view-versus-a-copy\n",
      "/Users/ankit/anaconda3/lib/python3.7/site-packages/ipykernel_launcher.py:20: SettingWithCopyWarning: \n",
      "A value is trying to be set on a copy of a slice from a DataFrame\n",
      "\n",
      "See the caveats in the documentation: https://pandas.pydata.org/pandas-docs/stable/user_guide/indexing.html#returning-a-view-versus-a-copy\n",
      "/Users/ankit/anaconda3/lib/python3.7/site-packages/ipykernel_launcher.py:24: SettingWithCopyWarning: \n",
      "A value is trying to be set on a copy of a slice from a DataFrame\n",
      "\n",
      "See the caveats in the documentation: https://pandas.pydata.org/pandas-docs/stable/user_guide/indexing.html#returning-a-view-versus-a-copy\n"
     ]
    }
   ],
   "source": [
    "#### Bollinger band features\n",
    "df['BreakHigh'] = 0\n",
    "df['BreakClose'] = 0\n",
    "df['BreakHigh'][df['High']>df['Bollinger High']] = 1\n",
    "df['BreakClose'][df['Close']>df['Bollinger High']] = 1\n",
    "\n",
    "df['BreakLow'] = 0\n",
    "df['BreakBear'] = 0\n",
    "df['BreakLow'][df['Low']<df['Bollinger Low']] = 1\n",
    "df['BreakBear'][df['Close']<df['Bollinger Low']] = 1\n",
    "\n",
    "#### MACD features\n",
    "df['MACDmoreSignal'] = 0\n",
    "df['MACDmoreSignal'][df['macd']>df['signal']] = 1\n",
    "\n",
    "#### RSI features\n",
    "df['overbought']=0\n",
    "df['overbought'][df['rsi']>70]=1\n",
    "df['oversold']=0\n",
    "df['oversold'][df['rsi']<30]=1\n",
    "\n",
    "### Volume based features\n",
    "df['OperatorEntry']=0\n",
    "df['OperatorEntry'][df['Volume']>df['Rolling Vol']]=1\n",
    "\n",
    "## HmO, HmC, HmL, OmL, CmL\n",
    "df['HmO'] = (df['High'] - df['Open'])/df['Open']\n",
    "df['HmC'] = (df['High'] - df['Close'])/df['Open']\n",
    "df['HmL'] = (df['High'] - df['Low'])/df['Open']\n",
    "df['OmL'] = (df['Open'] - df['Low'])/df['Open']\n",
    "df['CmL'] = (df['Close'] - df['Low'])/df['Open']\n",
    "\n",
    "### Simple moving average features\n",
    "### SMAs 20, 50, 100, 200\n",
    "df['sma_20'] = df['Close'].rolling(20).mean()\n",
    "df['sma_50'] = df['Close'].rolling(50).mean()\n",
    "df['sma_100'] = df['Close'].rolling(100).mean()\n",
    "df['sma_200'] = df['Close'].rolling(200).mean()\n",
    "df['20g50'] = df['sma_20'] > df['sma_50']\n",
    "df['20g100'] = df['sma_20'] > df['sma_100']\n",
    "df['20g200'] = df['sma_20'] > df['sma_200']\n",
    "df['Cg20'] = df['Close'] > df['sma_20']\n",
    "df['Cg50'] = df['Close'] > df['sma_50']\n",
    "df['Cg100'] = df['Close'] > df['sma_100']\n",
    "df['Cg200'] = df['Close'] > df['sma_200']\n",
    "\n",
    "### DOW - Day of Week, DFME - Days from Monthly Expiry, DOM - Day of Month\n",
    "df['date'] = df.index\n",
    "df['dow'] = df.index.dayofweek\n",
    "df['DFME'] = df['date'].apply(lambda x:days2expiry(x))\n",
    "df['DOM'] = df['date'].apply(lambda x:x.day)"
   ]
  },
  {
   "cell_type": "markdown",
   "metadata": {},
   "source": [
    "### Remove raw data and keep only useful features"
   ]
  },
  {
   "cell_type": "code",
   "execution_count": 9,
   "metadata": {},
   "outputs": [],
   "source": [
    "df=df[['macd_hist', 'Buy', 'BreakHigh', 'BreakClose',\n",
    "       'BreakLow', 'BreakBear', 'MACDmoreSignal', 'overbought', 'oversold',\n",
    "       'OperatorEntry', 'HmO', 'HmC', 'HmL', 'OmL', 'CmL', '20g50', '20g100',\n",
    "       '20g200','dow', 'DFME', 'DOM', 'Cg20','Cg50','Cg100','Cg200']]\n",
    "df=df.dropna()"
   ]
  },
  {
   "cell_type": "markdown",
   "metadata": {},
   "source": [
    "### Logistic Regresssion vs Random Forest\n",
    "Let's compare OOTB logistic regression to Random Forest"
   ]
  },
  {
   "cell_type": "code",
   "execution_count": 10,
   "metadata": {},
   "outputs": [],
   "source": [
    "tt_split_days = 1335\n",
    "col = [k for k in df.columns if k != 'Buy']\n",
    "X_train = df[col].iloc[:tt_split_days]\n",
    "y_train = df['Buy'].iloc[:tt_split_days]\n",
    "X_test = df[col].iloc[tt_split_days:]\n",
    "y_test = df['Buy'].iloc[tt_split_days:]"
   ]
  },
  {
   "cell_type": "code",
   "execution_count": 11,
   "metadata": {},
   "outputs": [],
   "source": [
    "def fit_predict(clf):\n",
    "    y_pred = clf.predict(X_test)\n",
    "    tn, fp, fn, tp = confusion_matrix(y_test, y_pred).ravel()\n",
    "    print ('Test set statistics:')\n",
    "    print (\"Precision: {}, Recall :{}, Accuracy :{}\".format(tp/(tp+fp), tp/(tp+fn), (tp+tn)/(tp+tn+fp+fn)))\n",
    "    y_pred = clf.predict(X_train)\n",
    "    tn, fp, fn, tp = confusion_matrix(y_train, y_pred).ravel()\n",
    "    print ('Train set statistics:')\n",
    "    print (\"Precision: {}, Recall :{}, Accuracy :{}\".format(tp/(tp+fp), tp/(tp+fn), (tp+tn)/(tp+tn+fp+fn)))"
   ]
  },
  {
   "cell_type": "code",
   "execution_count": 12,
   "metadata": {},
   "outputs": [
    {
     "name": "stdout",
     "output_type": "stream",
     "text": [
      "Test set statistics:\n",
      "Precision: 0.5018050541516246, Recall :0.54296875, Accuracy :0.5299539170506913\n",
      "Train set statistics:\n",
      "Precision: 0.5455746367239102, Recall :0.612759643916914, Accuracy :0.5468164794007491\n"
     ]
    },
    {
     "name": "stderr",
     "output_type": "stream",
     "text": [
      "/Users/ankit/anaconda3/lib/python3.7/site-packages/sklearn/linear_model/logistic.py:433: FutureWarning: Default solver will be changed to 'lbfgs' in 0.22. Specify a solver to silence this warning.\n",
      "  FutureWarning)\n"
     ]
    }
   ],
   "source": [
    "clf = LogisticRegression(random_state=0).fit(X_train, y_train)\n",
    "fit_predict(clf)"
   ]
  },
  {
   "cell_type": "code",
   "execution_count": 16,
   "metadata": {},
   "outputs": [
    {
     "name": "stdout",
     "output_type": "stream",
     "text": [
      "Test set statistics:\n",
      "Precision: 0.4619354838709677, Recall :0.69921875, Accuracy :0.4737327188940092\n",
      "Train set statistics:\n",
      "Precision: 0.5658823529411765, Recall :0.7136498516320475, Accuracy :0.5790262172284644\n",
      "max depth:2\n",
      "\n",
      "Test set statistics:\n",
      "Precision: 0.4676470588235294, Recall :0.62109375, Accuracy :0.4875576036866359\n",
      "Train set statistics:\n",
      "Precision: 0.6211699164345403, Recall :0.6617210682492581, Accuracy :0.6254681647940075\n",
      "max depth:3\n",
      "\n",
      "Test set statistics:\n",
      "Precision: 0.46935201401050786, Recall :0.5234375, Accuracy :0.49585253456221196\n",
      "Train set statistics:\n",
      "Precision: 0.648068669527897, Recall :0.672106824925816, Accuracy :0.650187265917603\n",
      "max depth:4\n",
      "\n",
      "Test set statistics:\n",
      "Precision: 0.4789915966386555, Recall :0.556640625, Accuracy :0.5050691244239631\n",
      "Train set statistics:\n",
      "Precision: 0.6813031161473088, Recall :0.7136498516320475, Accuracy :0.6868913857677903\n",
      "max depth:5\n",
      "\n",
      "Test set statistics:\n",
      "Precision: 0.4758942457231726, Recall :0.59765625, Accuracy :0.49953917050691243\n",
      "Train set statistics:\n",
      "Precision: 0.7285921625544267, Recall :0.744807121661721, Accuracy :0.7310861423220973\n",
      "max depth:6\n",
      "\n",
      "Test set statistics:\n",
      "Precision: 0.4732824427480916, Recall :0.484375, Accuracy :0.5023041474654378\n",
      "Train set statistics:\n",
      "Precision: 0.7873651771956857, Recall :0.7581602373887241, Accuracy :0.7745318352059926\n",
      "max depth:7\n",
      "\n",
      "Test set statistics:\n",
      "Precision: 0.4647239263803681, Recall :0.591796875, Accuracy :0.4857142857142857\n",
      "Train set statistics:\n",
      "Precision: 0.8380952380952381, Recall :0.7833827893175074, Accuracy :0.8142322097378277\n",
      "max depth:8\n",
      "\n",
      "Test set statistics:\n",
      "Precision: 0.47189097103918226, Recall :0.541015625, Accuracy :0.4976958525345622\n",
      "Train set statistics:\n",
      "Precision: 0.8788819875776398, Recall :0.8397626112759644, Accuracy :0.8606741573033708\n",
      "max depth:9\n",
      "\n"
     ]
    },
    {
     "name": "stderr",
     "output_type": "stream",
     "text": [
      "/Users/ankit/anaconda3/lib/python3.7/site-packages/sklearn/ensemble/forest.py:246: FutureWarning: The default value of n_estimators will change from 10 in version 0.20 to 100 in 0.22.\n",
      "  \"10 in version 0.20 to 100 in 0.22.\", FutureWarning)\n",
      "/Users/ankit/anaconda3/lib/python3.7/site-packages/sklearn/ensemble/forest.py:246: FutureWarning: The default value of n_estimators will change from 10 in version 0.20 to 100 in 0.22.\n",
      "  \"10 in version 0.20 to 100 in 0.22.\", FutureWarning)\n",
      "/Users/ankit/anaconda3/lib/python3.7/site-packages/sklearn/ensemble/forest.py:246: FutureWarning: The default value of n_estimators will change from 10 in version 0.20 to 100 in 0.22.\n",
      "  \"10 in version 0.20 to 100 in 0.22.\", FutureWarning)\n",
      "/Users/ankit/anaconda3/lib/python3.7/site-packages/sklearn/ensemble/forest.py:246: FutureWarning: The default value of n_estimators will change from 10 in version 0.20 to 100 in 0.22.\n",
      "  \"10 in version 0.20 to 100 in 0.22.\", FutureWarning)\n",
      "/Users/ankit/anaconda3/lib/python3.7/site-packages/sklearn/ensemble/forest.py:246: FutureWarning: The default value of n_estimators will change from 10 in version 0.20 to 100 in 0.22.\n",
      "  \"10 in version 0.20 to 100 in 0.22.\", FutureWarning)\n",
      "/Users/ankit/anaconda3/lib/python3.7/site-packages/sklearn/ensemble/forest.py:246: FutureWarning: The default value of n_estimators will change from 10 in version 0.20 to 100 in 0.22.\n",
      "  \"10 in version 0.20 to 100 in 0.22.\", FutureWarning)\n",
      "/Users/ankit/anaconda3/lib/python3.7/site-packages/sklearn/ensemble/forest.py:246: FutureWarning: The default value of n_estimators will change from 10 in version 0.20 to 100 in 0.22.\n",
      "  \"10 in version 0.20 to 100 in 0.22.\", FutureWarning)\n",
      "/Users/ankit/anaconda3/lib/python3.7/site-packages/sklearn/ensemble/forest.py:246: FutureWarning: The default value of n_estimators will change from 10 in version 0.20 to 100 in 0.22.\n",
      "  \"10 in version 0.20 to 100 in 0.22.\", FutureWarning)\n"
     ]
    }
   ],
   "source": [
    "for max_d in range(2,10):\n",
    "    for criterion in []:\n",
    "        print ('max depth:{}'.format(max_d))\n",
    "        clf = RandomForestClassifier(random_state=0, max_depth=max_d).fit(X_train, y_train)\n",
    "        fit_predict(clf)\n",
    "        print ('\\n')"
   ]
  },
  {
   "cell_type": "code",
   "execution_count": null,
   "metadata": {},
   "outputs": [],
   "source": []
  }
 ],
 "metadata": {
  "kernelspec": {
   "display_name": "Python 3",
   "language": "python",
   "name": "python3"
  },
  "language_info": {
   "codemirror_mode": {
    "name": "ipython",
    "version": 3
   },
   "file_extension": ".py",
   "mimetype": "text/x-python",
   "name": "python",
   "nbconvert_exporter": "python",
   "pygments_lexer": "ipython3",
   "version": "3.7.1"
  }
 },
 "nbformat": 4,
 "nbformat_minor": 2
}
