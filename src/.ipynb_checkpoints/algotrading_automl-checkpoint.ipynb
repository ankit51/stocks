{
 "cells": [
  {
   "cell_type": "markdown",
   "metadata": {},
   "source": [
    "### Import all necessary libraries"
   ]
  },
  {
   "cell_type": "code",
   "execution_count": 1,
   "metadata": {},
   "outputs": [],
   "source": [
    "import yfinance as yf\n",
    "import pandas as pd\n",
    "import datetime\n",
    "import calendar\n",
    "import numpy as np\n",
    "import matplotlib.pyplot as plt\n",
    "from calendar import monthrange\n",
    "%matplotlib inline\n",
    "import warnings\n",
    "warnings.filterwarnings('ignore')"
   ]
  },
  {
   "cell_type": "markdown",
   "metadata": {},
   "source": [
    "### Get stock data from Yahoo Finance\n",
    "I have chosen my favourite stock here Bajaj Finance. It is a high beta stocks and thus provides opportunites for short term trading.\n",
    "Each entry represents 1 day staring from 1 Jan 2011"
   ]
  },
  {
   "cell_type": "code",
   "execution_count": 2,
   "metadata": {},
   "outputs": [],
   "source": [
    "ticker='BAJFINANCE.NS'\n",
    "tickerData = yf.Ticker(ticker)\n",
    "df = tickerData.history(period='1d', start='2011-1-1')"
   ]
  },
  {
   "cell_type": "markdown",
   "metadata": {},
   "source": [
    "### Bollinger Bands\n",
    "Bollinger Bands are a technical analysis tool developed by John Bollinger for generating oversold or overbought signals.\n",
    "There are three lines that compose Bollinger Bands: A simple moving average (middle band) and an upper and lower band.\n",
    "The upper and lower bands are typically 2 standard deviations +/- from a 20-day simple moving average, but can be modified."
   ]
  },
  {
   "cell_type": "code",
   "execution_count": 3,
   "metadata": {},
   "outputs": [],
   "source": [
    "### Bollinger Bands\n",
    "window = 21\n",
    "no_of_std = 2\n",
    "\n",
    "#Calculate rolling mean and standard deviation using number of days set above\n",
    "rolling_mean = df['Close'].rolling(window).mean()\n",
    "rolling_std = df['Close'].rolling(window).std()\n",
    "rolling_vol = df['Volume'].rolling(window).mean()\n",
    "\n",
    "#create two new DataFrame columns to hold values of upper and lower Bollinger bands\n",
    "df['Rolling Mean'] = rolling_mean\n",
    "df['Bollinger High'] = rolling_mean + (rolling_std * no_of_std)\n",
    "df['Bollinger Low'] = rolling_mean - (rolling_std * no_of_std)\n",
    "df['Rolling Vol'] = rolling_vol"
   ]
  },
  {
   "cell_type": "markdown",
   "metadata": {},
   "source": [
    "### Relative Strength Index (RSI)\n",
    "The relative strength index (RSI) is a momentum indicator used in technical analysis that measures the magnitude of recent price changes to evaluate overbought or oversold conditions in the price of a stock or other asset. The RSI is displayed as an oscillator (a line graph that moves between two extremes) and can have a reading from 0 to 100. The indicator was originally developed by J. Welles Wilder Jr. and introduced in his seminal 1978 book, \"New Concepts in Technical Trading Systems.\"\n",
    "\n",
    "Traditional interpretation and usage of the RSI are that values of 70 or above indicate that a security is becoming overbought or overvalued and may be primed for a trend reversal or corrective pullback in price. An RSI reading of 30 or below indicates an oversold or undervalued condition."
   ]
  },
  {
   "cell_type": "code",
   "execution_count": 4,
   "metadata": {},
   "outputs": [],
   "source": [
    "#### RSI\n",
    "window = 14\n",
    "no_of_std = 2\n",
    "df['Close_shift'] = df['Close'].shift(30)\n",
    "df['GL'] = (df['Close_shift']-df['Close'])/df['Close']\n",
    "df['rsi']=None\n",
    "for row in range(df.shape[0]):\n",
    "    tmp = df['GL'].iloc[row-14:row]\n",
    "    avg_gain = (tmp[tmp>0].mean()*13+df['GL'].iloc[row])/14\n",
    "    avg_loss = (abs(tmp[tmp<0].mean())*13+df['GL'].iloc[row])/14\n",
    "    rs = avg_gain/avg_loss\n",
    "    df['rsi'].iloc[row] = 100-100/(1+rs)"
   ]
  },
  {
   "cell_type": "markdown",
   "metadata": {},
   "source": [
    "### MACD\n",
    "Moving Average Convergence Divergence (MACD) is a trend-following momentum indicator that shows the relationship between two moving averages of a security’s price. The MACD is calculated by subtracting the 26-period Exponential Moving Average (EMA) from the 12-period EMA.\n",
    "\n",
    "The result of that calculation is the MACD line. A nine-day EMA of the MACD called the \"signal line,\" is then plotted on top of the MACD line, which can function as a trigger for buy and sell signals. Traders may buy the security when the MACD crosses above its signal line and sell—or short—the security when the MACD crosses below the signal line. Moving Average Convergence Divergence (MACD) indicators can be interpreted in several ways, but the more common methods are crossovers, divergences, and rapid rises/falls."
   ]
  },
  {
   "cell_type": "code",
   "execution_count": 5,
   "metadata": {},
   "outputs": [],
   "source": [
    "#### macd\n",
    "df['macd'] = df['Close'].ewm(span=12, adjust=False).mean()-df['Close'].ewm(span=26, adjust=False).mean()\n",
    "df['signal'] = df['macd'].ewm(span=9, adjust=False).mean()\n",
    "df['macd_hist'] = df['macd']-df['signal']"
   ]
  },
  {
   "cell_type": "markdown",
   "metadata": {},
   "source": [
    "### Target variable\n",
    "Buy today only if stock moves upwards tomorrow"
   ]
  },
  {
   "cell_type": "code",
   "execution_count": 6,
   "metadata": {},
   "outputs": [],
   "source": [
    "df['Buy'] = df['GL']\n",
    "df['Buy'] = df['Buy']>0.02\n",
    "df['Buy']=df['Buy'].apply(lambda x:int(x))"
   ]
  },
  {
   "cell_type": "code",
   "execution_count": 7,
   "metadata": {},
   "outputs": [],
   "source": [
    "def prev_weekday(d, weekday):\n",
    "    days_ahead = d.weekday() - weekday\n",
    "    if days_ahead <= 0:\n",
    "        days_ahead += 7\n",
    "    return d - datetime.timedelta(days_ahead)\n",
    "def days2expiry(dt):\n",
    "    yr = dt.year\n",
    "    mth = dt.month\n",
    "    d = datetime.date(yr,mth,monthrange(yr, mth)[1])\n",
    "    expiry = prev_weekday(d, 3)\n",
    "    return (expiry-dt.date()).days"
   ]
  },
  {
   "cell_type": "markdown",
   "metadata": {},
   "source": [
    "### Feature Engineering\n",
    "Using ideas from all of the above, let us develop some features."
   ]
  },
  {
   "cell_type": "code",
   "execution_count": 8,
   "metadata": {},
   "outputs": [],
   "source": [
    "#### Bollinger band features\n",
    "df['BreakHigh'] = 0\n",
    "df['BreakClose'] = 0\n",
    "df['BreakHigh'][df['High']>df['Bollinger High']] = 1\n",
    "df['BreakClose'][df['Close']>df['Bollinger High']] = 1\n",
    "\n",
    "df['BreakLow'] = 0\n",
    "df['BreakBear'] = 0\n",
    "df['BreakLow'][df['Low']<df['Bollinger Low']] = 1\n",
    "df['BreakBear'][df['Close']<df['Bollinger Low']] = 1\n",
    "\n",
    "#### MACD features\n",
    "df['MACDmoreSignal'] = 0\n",
    "df['MACDmoreSignal'][df['macd']>df['signal']] = 1\n",
    "\n",
    "#### RSI features\n",
    "df['overbought']=0\n",
    "df['overbought'][df['rsi']>70]=1\n",
    "df['oversold']=0\n",
    "df['oversold'][df['rsi']<30]=1\n",
    "\n",
    "### Volume based features\n",
    "df['OperatorEntry']=0\n",
    "df['OperatorEntry'][df['Volume']>df['Rolling Vol']]=1\n",
    "\n",
    "## HmO, HmC, HmL, OmL, CmL\n",
    "df['HmO'] = (df['High'] - df['Open'])/df['Open']\n",
    "df['HmC'] = (df['High'] - df['Close'])/df['Open']\n",
    "df['HmL'] = (df['High'] - df['Low'])/df['Open']\n",
    "df['OmL'] = (df['Open'] - df['Low'])/df['Open']\n",
    "df['CmL'] = (df['Close'] - df['Low'])/df['Open']\n",
    "\n",
    "### Simple moving average features\n",
    "### SMAs 20, 50, 100, 200\n",
    "df['sma_20'] = df['Close'].rolling(20).mean()\n",
    "df['sma_50'] = df['Close'].rolling(50).mean()\n",
    "df['sma_100'] = df['Close'].rolling(100).mean()\n",
    "df['sma_200'] = df['Close'].rolling(200).mean()\n",
    "df['20g50'] = df['sma_20'] > df['sma_50']\n",
    "df['20g100'] = df['sma_20'] > df['sma_100']\n",
    "df['20g200'] = df['sma_20'] > df['sma_200']\n",
    "df['Cg20'] = df['Close'] > df['sma_20']\n",
    "df['Cg50'] = df['Close'] > df['sma_50']\n",
    "df['Cg100'] = df['Close'] > df['sma_100']\n",
    "df['Cg200'] = df['Close'] > df['sma_200']\n",
    "\n",
    "### DOW - Day of Week, DFME - Days from Monthly Expiry, DOM - Day of Month\n",
    "df['date'] = df.index\n",
    "df['dow'] = df.index.dayofweek\n",
    "df['DFME'] = df['date'].apply(lambda x:days2expiry(x))\n",
    "df['DOM'] = df['date'].apply(lambda x:x.day)"
   ]
  },
  {
   "cell_type": "markdown",
   "metadata": {},
   "source": [
    "### Remove raw data and keep only useful features"
   ]
  },
  {
   "cell_type": "code",
   "execution_count": 9,
   "metadata": {},
   "outputs": [],
   "source": [
    "df1=df[['macd_hist', 'Buy', 'BreakHigh', 'BreakClose',\n",
    "       'BreakLow', 'BreakBear', 'MACDmoreSignal', 'overbought', 'oversold',\n",
    "       'OperatorEntry', 'HmO', 'HmC', 'HmL', 'OmL', 'CmL', '20g50', '20g100',\n",
    "       '20g200','dow', 'DFME', 'DOM', 'Cg20','Cg50','Cg100','Cg200']]\n",
    "df1=df1.dropna()"
   ]
  },
  {
   "cell_type": "markdown",
   "metadata": {},
   "source": [
    "### Autokeras\n",
    "Let's test Autokeras library to get the best model"
   ]
  },
  {
   "cell_type": "code",
   "execution_count": 10,
   "metadata": {},
   "outputs": [],
   "source": [
    "import numpy as np\n",
    "import pandas as pd\n",
    "import tensorflow as tf\n",
    "\n",
    "import autokeras as ak"
   ]
  },
  {
   "cell_type": "code",
   "execution_count": 11,
   "metadata": {},
   "outputs": [],
   "source": [
    "tt_split_days = 2000\n",
    "col = [k for k in df.columns if k != 'Buy']\n",
    "X_train = df[col].iloc[:tt_split_days]\n",
    "y_train = df['Buy'].iloc[:tt_split_days]\n",
    "X_test = df[col].iloc[tt_split_days:]\n",
    "y_test = df['Buy'].iloc[tt_split_days:]"
   ]
  },
  {
   "cell_type": "code",
   "execution_count": 12,
   "metadata": {},
   "outputs": [
    {
     "name": "stdout",
     "output_type": "stream",
     "text": [
      "Trial 3 Complete [00h 00m 04s]\n",
      "val_accuracy: 0.85326087474823\n",
      "\n",
      "Best val_accuracy So Far: 0.85326087474823\n",
      "Total elapsed time: 00h 00m 13s\n",
      "INFO:tensorflow:Oracle triggered exit\n",
      "Epoch 1/10\n",
      "63/63 [==============================] - 1s 2ms/step - loss: 0.5426 - accuracy: 0.7585\n",
      "Epoch 2/10\n",
      "63/63 [==============================] - 0s 2ms/step - loss: 0.3626 - accuracy: 0.8550\n",
      "Epoch 3/10\n",
      "63/63 [==============================] - 0s 2ms/step - loss: 0.2808 - accuracy: 0.8880\n",
      "Epoch 4/10\n",
      "63/63 [==============================] - 0s 2ms/step - loss: 0.2377 - accuracy: 0.9000\n",
      "Epoch 5/10\n",
      "63/63 [==============================] - 0s 2ms/step - loss: 0.2118 - accuracy: 0.9150\n",
      "Epoch 6/10\n",
      "63/63 [==============================] - 0s 2ms/step - loss: 0.1968 - accuracy: 0.9125\n",
      "Epoch 7/10\n",
      "63/63 [==============================] - 0s 2ms/step - loss: 0.1753 - accuracy: 0.9285\n",
      "Epoch 8/10\n",
      "63/63 [==============================] - 0s 2ms/step - loss: 0.1616 - accuracy: 0.9340\n",
      "Epoch 9/10\n",
      "63/63 [==============================] - 0s 2ms/step - loss: 0.1481 - accuracy: 0.9420\n",
      "Epoch 10/10\n",
      "63/63 [==============================] - 0s 2ms/step - loss: 0.1336 - accuracy: 0.9510\n",
      "INFO:tensorflow:Assets written to: ./structured_data_classifier/best_model/assets\n"
     ]
    }
   ],
   "source": [
    "# Initialize the structured data classifier.\n",
    "clf = ak.StructuredDataClassifier(\n",
    "    overwrite=True, max_trials=3, metrics='accuracy'\n",
    ")  # It tries 3 different models.\n",
    "# Feed the structured data classifier with training data.\n",
    "clf.fit(\n",
    "    X_train, y_train, epochs=10\n",
    ")"
   ]
  },
  {
   "cell_type": "code",
   "execution_count": 13,
   "metadata": {},
   "outputs": [
    {
     "name": "stdout",
     "output_type": "stream",
     "text": [
      "19/19 [==============================] - 0s 1ms/step\n"
     ]
    }
   ],
   "source": [
    "# Predict with the best model.\n",
    "predicted_y = clf.predict(X_test)"
   ]
  },
  {
   "cell_type": "code",
   "execution_count": 14,
   "metadata": {},
   "outputs": [],
   "source": [
    "y_pred = [int(k[0]) for k in predicted_y]"
   ]
  },
  {
   "cell_type": "code",
   "execution_count": 15,
   "metadata": {},
   "outputs": [],
   "source": [
    "y_test = [k for k in y_test]"
   ]
  },
  {
   "cell_type": "code",
   "execution_count": 16,
   "metadata": {},
   "outputs": [],
   "source": [
    "from sklearn.metrics import confusion_matrix\n",
    "tn, fp, fn, tp = confusion_matrix(y_test, y_pred).ravel()"
   ]
  },
  {
   "cell_type": "code",
   "execution_count": 17,
   "metadata": {},
   "outputs": [],
   "source": [
    "p = tp/(tp+fp)\n",
    "r = tp/(tp+fn)\n",
    "f1 = 2*p*r/(p+r)"
   ]
  },
  {
   "cell_type": "code",
   "execution_count": 18,
   "metadata": {},
   "outputs": [
    {
     "data": {
      "text/plain": [
       "0.9230769230769231"
      ]
     },
     "execution_count": 18,
     "metadata": {},
     "output_type": "execute_result"
    }
   ],
   "source": [
    "p"
   ]
  },
  {
   "cell_type": "code",
   "execution_count": 19,
   "metadata": {},
   "outputs": [
    {
     "data": {
      "text/plain": [
       "0.7397260273972602"
      ]
     },
     "execution_count": 19,
     "metadata": {},
     "output_type": "execute_result"
    }
   ],
   "source": [
    "r"
   ]
  },
  {
   "cell_type": "code",
   "execution_count": 20,
   "metadata": {},
   "outputs": [
    {
     "data": {
      "text/plain": [
       "0.8212927756653992"
      ]
     },
     "execution_count": 20,
     "metadata": {},
     "output_type": "execute_result"
    }
   ],
   "source": [
    "f1"
   ]
  },
  {
   "cell_type": "code",
   "execution_count": 21,
   "metadata": {},
   "outputs": [
    {
     "data": {
      "text/plain": [
       "(584, 45)"
      ]
     },
     "execution_count": 21,
     "metadata": {},
     "output_type": "execute_result"
    }
   ],
   "source": [
    "X_test.shape"
   ]
  },
  {
   "cell_type": "code",
   "execution_count": 22,
   "metadata": {},
   "outputs": [
    {
     "data": {
      "text/plain": [
       "(2000, 45)"
      ]
     },
     "execution_count": 22,
     "metadata": {},
     "output_type": "execute_result"
    }
   ],
   "source": [
    "X_train.shape"
   ]
  },
  {
   "cell_type": "code",
   "execution_count": 23,
   "metadata": {},
   "outputs": [
    {
     "data": {
      "text/plain": [
       "(2584, 46)"
      ]
     },
     "execution_count": 23,
     "metadata": {},
     "output_type": "execute_result"
    }
   ],
   "source": [
    "df.shape"
   ]
  },
  {
   "cell_type": "markdown",
   "metadata": {},
   "source": [
    "### Returns when using this strategy"
   ]
  },
  {
   "cell_type": "code",
   "execution_count": 28,
   "metadata": {},
   "outputs": [
    {
     "data": {
      "text/plain": [
       "37.43763820334614"
      ]
     },
     "execution_count": 28,
     "metadata": {},
     "output_type": "execute_result"
    }
   ],
   "source": [
    "sum(df.iloc[2000:,:]['GL']*y_pred)"
   ]
  },
  {
   "cell_type": "markdown",
   "metadata": {},
   "source": [
    "### God Returns"
   ]
  },
  {
   "cell_type": "code",
   "execution_count": 29,
   "metadata": {},
   "outputs": [
    {
     "data": {
      "text/plain": [
       "39.956576393890074"
      ]
     },
     "execution_count": 29,
     "metadata": {},
     "output_type": "execute_result"
    }
   ],
   "source": [
    "sum(df.iloc[2000:,:]['GL']*y_test)"
   ]
  },
  {
   "cell_type": "markdown",
   "metadata": {},
   "source": [
    "### Buy and Hold Returns"
   ]
  },
  {
   "cell_type": "code",
   "execution_count": 36,
   "metadata": {},
   "outputs": [
    {
     "data": {
      "text/plain": [
       "129.62396696466536"
      ]
     },
     "execution_count": 36,
     "metadata": {},
     "output_type": "execute_result"
    }
   ],
   "source": [
    "(df.iloc[2000:,:]['Close'][-1]-df.iloc[2000:,:]['Close'][0])*100/df.iloc[2000:,:]['Close'][0]"
   ]
  },
  {
   "cell_type": "code",
   "execution_count": null,
   "metadata": {},
   "outputs": [],
   "source": []
  }
 ],
 "metadata": {
  "kernelspec": {
   "display_name": "Python 3",
   "language": "python",
   "name": "python3"
  },
  "language_info": {
   "codemirror_mode": {
    "name": "ipython",
    "version": 3
   },
   "file_extension": ".py",
   "mimetype": "text/x-python",
   "name": "python",
   "nbconvert_exporter": "python",
   "pygments_lexer": "ipython3",
   "version": "3.8.8"
  }
 },
 "nbformat": 4,
 "nbformat_minor": 2
}
